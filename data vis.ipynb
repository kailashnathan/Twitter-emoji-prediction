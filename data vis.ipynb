{
 "cells": [
  {
   "cell_type": "code",
   "execution_count": 72,
   "metadata": {},
   "outputs": [
    {
     "ename": "ModuleNotFoundError",
     "evalue": "No module named 'mpld3'",
     "output_type": "error",
     "traceback": [
      "\u001b[1;31m---------------------------------------------------------------------------\u001b[0m",
      "\u001b[1;31mModuleNotFoundError\u001b[0m                       Traceback (most recent call last)",
      "\u001b[1;32m<ipython-input-72-48615f6a26cb>\u001b[0m in \u001b[0;36m<module>\u001b[1;34m()\u001b[0m\n\u001b[0;32m      4\u001b[0m \u001b[1;32mimport\u001b[0m \u001b[0mmatplotlib\u001b[0m\u001b[1;33m.\u001b[0m\u001b[0mpyplot\u001b[0m \u001b[1;32mas\u001b[0m \u001b[0mplt\u001b[0m\u001b[1;33m\u001b[0m\u001b[0m\n\u001b[0;32m      5\u001b[0m \u001b[1;32mimport\u001b[0m \u001b[0mcodecs\u001b[0m\u001b[1;33m\u001b[0m\u001b[0m\n\u001b[1;32m----> 6\u001b[1;33m \u001b[1;32mimport\u001b[0m \u001b[0mmpld3\u001b[0m\u001b[1;33m\u001b[0m\u001b[0m\n\u001b[0m\u001b[0;32m      7\u001b[0m \u001b[0mmpld3\u001b[0m\u001b[1;33m.\u001b[0m\u001b[0menable_notebook\u001b[0m\u001b[1;33m(\u001b[0m\u001b[1;33m)\u001b[0m\u001b[1;33m\u001b[0m\u001b[0m\n",
      "\u001b[1;31mModuleNotFoundError\u001b[0m: No module named 'mpld3'"
     ]
    }
   ],
   "source": [
    "import numpy as np\n",
    "import pandas as pd\n",
    "import seaborn as sns\n",
    "import matplotlib.pyplot as plt\n",
    "import codecs\n"
   ]
  },
  {
   "cell_type": "code",
   "execution_count": 5,
   "metadata": {
    "collapsed": true
   },
   "outputs": [],
   "source": [
    "train_data = \"./traindata.text\""
   ]
  },
  {
   "cell_type": "code",
   "execution_count": 6,
   "metadata": {
    "collapsed": true
   },
   "outputs": [],
   "source": [
    "fpText  = codecs.open(train_data,'r',encoding='utf8')"
   ]
  },
  {
   "cell_type": "code",
   "execution_count": 7,
   "metadata": {
    "collapsed": true
   },
   "outputs": [],
   "source": [
    "content = fpText.read()"
   ]
  },
  {
   "cell_type": "code",
   "execution_count": 8,
   "metadata": {
    "collapsed": true
   },
   "outputs": [],
   "source": [
    "fpText.close()"
   ]
  },
  {
   "cell_type": "code",
   "execution_count": 12,
   "metadata": {},
   "outputs": [
    {
     "data": {
      "text/plain": [
       "str"
      ]
     },
     "execution_count": 12,
     "metadata": {},
     "output_type": "execute_result"
    }
   ],
   "source": [
    "type(content)"
   ]
  },
  {
   "cell_type": "code",
   "execution_count": 22,
   "metadata": {},
   "outputs": [
    {
     "name": "stdout",
     "output_type": "stream",
     "text": [
      "LoL @ West Covina, California \n",
      "Things got a little festive at the office #christmas2016 @ RedRock… \n",
      "Step out and explore. # ️ @ Ellis Island Cafe \n",
      "@user @ Cathedral Preparatory School \n",
      "My baby bear @ Bubby's \n",
      "RuPaul's Drag Race bingo fun. Drag Queens be SEXY! #rupaulsdragrace @user abwyman #la… \n",
      "Black History like a Mufffffaaaaaka #blacchyna done thru her yugioh trap card like hell … \n",
      "Just light makeup ️ #blueeyes #lupusgirl #photography #modelingagency #modeling #smiling… \n",
      "@ BJ's Restaurant and Brewhouse \n",
      "So lovely catching up with my soul sister @user @ University of Victoria \n",
      "Perfect for this weather ️ #dessert #snowice #snowwhite #lasvegas #summer @ Snow White Cafe \n",
      "Had fun (at @user in New York, NY) \n",
      "Well Damn @ Oklahoma City, Oklahoma \n",
      "'scuse me while I kiss the sky. ___ : nikkileekv @ Malibu, California \n",
      "Fun in the sun ️ @ Brownstone Park, Portland, CT \n",
      "Celebrating #LAstyle @ Calle Tacos \n",
      "I think today is about to be a great day.. \n",
      "@user it's all Bama now What's your take on Kif\n"
     ]
    }
   ],
   "source": [
    "print (content[:1000])"
   ]
  },
  {
   "cell_type": "code",
   "execution_count": 13,
   "metadata": {
    "collapsed": true
   },
   "outputs": [],
   "source": [
    "j=0"
   ]
  },
  {
   "cell_type": "code",
   "execution_count": 19,
   "metadata": {},
   "outputs": [],
   "source": [
    "while j<100:\n",
    "    print(content[:j])\n",
    "    j+=1"
   ]
  },
  {
   "cell_type": "code",
   "execution_count": 31,
   "metadata": {},
   "outputs": [],
   "source": [
    "df = pd.read_table('./traindata.text', delim_whitespace=False, names=('A'))"
   ]
  },
  {
   "cell_type": "code",
   "execution_count": 37,
   "metadata": {},
   "outputs": [
    {
     "data": {
      "text/plain": [
       "87"
      ]
     },
     "execution_count": 37,
     "metadata": {},
     "output_type": "execute_result"
    }
   ],
   "source": [
    "len(df['A'][5])"
   ]
  },
  {
   "cell_type": "code",
   "execution_count": 38,
   "metadata": {
    "collapsed": true
   },
   "outputs": [],
   "source": [
    "ds = pd.read_table('./traindata.label', delim_whitespace=False, names=('B'))"
   ]
  },
  {
   "cell_type": "code",
   "execution_count": 45,
   "metadata": {},
   "outputs": [
    {
     "name": "stdout",
     "output_type": "stream",
     "text": [
      "9\n"
     ]
    }
   ],
   "source": [
    "print ds['B'][5]"
   ]
  },
  {
   "cell_type": "code",
   "execution_count": 46,
   "metadata": {
    "collapsed": true
   },
   "outputs": [],
   "source": [
    "df['class']=ds['B'].astype('int')"
   ]
  },
  {
   "cell_type": "code",
   "execution_count": 47,
   "metadata": {},
   "outputs": [
    {
     "data": {
      "text/plain": [
       "<bound method NDFrame.head of                                                         A  class\n",
       "0                          LoL @ West Covina, California       2\n",
       "1       Things got a little festive at the office #chr...     17\n",
       "2          Step out and explore. # ️ @ Ellis Island Cafe       0\n",
       "3                   @user @ Cathedral Preparatory School      18\n",
       "4                                 My baby bear @ Bubby's       1\n",
       "5       RuPaul's Drag Race bingo fun. Drag Queens be S...      9\n",
       "6       Black History like a Mufffffaaaaaka #blacchyna...      2\n",
       "7       Just light makeup ️ #blueeyes #lupusgirl #phot...      0\n",
       "8                        @ BJ's Restaurant and Brewhouse       8\n",
       "9       So lovely catching up with my soul sister @use...     13\n",
       "10      Perfect for this weather ️ #dessert #snowice #...      0\n",
       "11                    Had fun (at @user in New York, NY)       1\n",
       "12                   Well Damn @ Oklahoma City, Oklahoma       2\n",
       "13      'scuse me while I kiss the sky. ___ : nikkilee...     18\n",
       "14      Fun in the sun ️ @ Brownstone Park, Portland, CT      12\n",
       "15                    Celebrating #LAstyle @ Calle Tacos       3\n",
       "16            I think today is about to be a great day..       5\n",
       "17      @user it's all Bama now What's your take on Ki...     14\n",
       "18      Bae-rito Wednesday. the day we convinced the g...     16\n",
       "19      Birthday Ski Trip with ny sweet hubby! #OneYea...      1\n",
       "20          I found my Mickey ️ @ Disney's Magic Kingdom       0\n",
       "21      COME SUPPORT!!!! Wells Hall across from Starbu...     13\n",
       "22                     favs @ Walnut Creek Middle School       8\n",
       "23      #whatremorse #notapologetic #sandiego #view # ...     16\n",
       "24      Juice and be glad! ++ zozazindan @ Nashville, ...     10\n",
       "25                      #mcm @ Piedmont-Fayette Hospital       1\n",
       "26      From carnival last night ️ ️ ️#Repost @user wi...      0\n",
       "27      TONIGHT TONIGHT TONIGHT!!! It's gone be lit !!...      4\n",
       "28      The moments we live for. Congrats, babe! #Happ...     13\n",
       "29      Don't miss me and this gem as neleus and brill...      9\n",
       "...                                                   ...    ...\n",
       "347169  Home is wherever I'm with you @user happy it's...      1\n",
       "347170  Personal Training clients doing PR's and I do ...     17\n",
       "347171  When your bride is a gorgeous, tall drink of w...      7\n",
       "347172  Christmas Day in South Texas!!! HoHoHo...@Murp...      8\n",
       "347173  Love your enemies &amp; pray for those who per...      0\n",
       "347174                       #boanoite @ Old Town Disney      14\n",
       "347175  SF at night #coittower #sf ️ @ San Francisco, ...      7\n",
       "347176  When it's time for you to go #Home but you don...      7\n",
       "347177  Oh #crêpe! So many choices at @user Loving the...     12\n",
       "347178  Very in ️ to be a part of this next week.For t...      4\n",
       "347179                     Love This Guy ️ @ Shake Shack       7\n",
       "347180  Well, today I'm moving out. Next month I will ...      0\n",
       "347181  Did you say treat?!!! - Zorro #Pomeranian #Pom...      3\n",
       "347182  Bastrop State Park with my babies @ Bastrop St...      8\n",
       "347183  The infamous Tio Noel ️ #MarreroFamilyReunion2...      2\n",
       "347184  Things that make your back turn red!!! @ Disne...     14\n",
       "347185  I'm in love with this girl's work. So pretty @...      0\n",
       "347186  The #gang ready to #rock this morning! #TeamSi...      0\n",
       "347187  So my mom has to do this 'routine' procedure. ...     18\n",
       "347188  Been MIA on IG cuz Snap is Life @ South Laurel...      5\n",
       "347189  Don't hate me because I'm so fabulous #whoteld...      4\n",
       "347190  Bailar al Sol Dance Festival at @user in #asbu...      3\n",
       "347191  Happy birthday to this queen! Thanks for alway...      1\n",
       "347192                           Women they're all nuts.       2\n",
       "347193  We're headed to Yorkville IL to play Summer So...      3\n",
       "347194                  Fam jam ️ ️ @ Park Valley Church      14\n",
       "347195  Celebrating my 2{1st} with my {1st} college fr...      0\n",
       "347196  I've known it from the moment that we met|no d...     11\n",
       "347197  We celebrated 13 years madness with each other...     10\n",
       "347198  Happy Birthday to u! Enjoy your day! #happybir...      9\n",
       "\n",
       "[347199 rows x 2 columns]>"
      ]
     },
     "execution_count": 47,
     "metadata": {},
     "output_type": "execute_result"
    }
   ],
   "source": [
    "df.head"
   ]
  },
  {
   "cell_type": "code",
   "execution_count": 49,
   "metadata": {},
   "outputs": [],
   "source": [
    "df['text length'] = df['A'].apply(len)"
   ]
  },
  {
   "cell_type": "code",
   "execution_count": 87,
   "metadata": {},
   "outputs": [
    {
     "data": {
      "text/plain": [
       "<bound method NDFrame.head of                                                         A  class  text length\n",
       "0                          LoL @ West Covina, California       1           30\n",
       "1       Things got a little festive at the office #chr...      1           68\n",
       "2          Step out and explore. # ️ @ Ellis Island Cafe       1           46\n",
       "3                   @user @ Cathedral Preparatory School       1           37\n",
       "4                                 My baby bear @ Bubby's       1           23\n",
       "5       RuPaul's Drag Race bingo fun. Drag Queens be S...      1           87\n",
       "6       Black History like a Mufffffaaaaaka #blacchyna...      1           90\n",
       "7       Just light makeup ️ #blueeyes #lupusgirl #phot...      1           90\n",
       "8                        @ BJ's Restaurant and Brewhouse       1           32\n",
       "9       So lovely catching up with my soul sister @use...      1           73\n",
       "10      Perfect for this weather ️ #dessert #snowice #...      1           92\n",
       "11                    Had fun (at @user in New York, NY)       1           35\n",
       "12                   Well Damn @ Oklahoma City, Oklahoma       1           36\n",
       "13      'scuse me while I kiss the sky. ___ : nikkilee...      1           70\n",
       "14      Fun in the sun ️ @ Brownstone Park, Portland, CT       1           49\n",
       "15                    Celebrating #LAstyle @ Calle Tacos       1           35\n",
       "16            I think today is about to be a great day..       1           43\n",
       "17      @user it's all Bama now What's your take on Ki...      1           69\n",
       "18      Bae-rito Wednesday. the day we convinced the g...      1           67\n",
       "19      Birthday Ski Trip with ny sweet hubby! #OneYea...      1           94\n",
       "20          I found my Mickey ️ @ Disney's Magic Kingdom       1           45\n",
       "21      COME SUPPORT!!!! Wells Hall across from Starbu...      1           64\n",
       "22                     favs @ Walnut Creek Middle School       1           34\n",
       "23      #whatremorse #notapologetic #sandiego #view # ...      1           70\n",
       "24      Juice and be glad! ++ zozazindan @ Nashville, ...      1           56\n",
       "25                      #mcm @ Piedmont-Fayette Hospital       1           33\n",
       "26      From carnival last night ️ ️ ️#Repost @user wi...      1           79\n",
       "27      TONIGHT TONIGHT TONIGHT!!! It's gone be lit !!...      1           93\n",
       "28      The moments we live for. Congrats, babe! #Happ...      1           59\n",
       "29      Don't miss me and this gem as neleus and brill...      1           95\n",
       "...                                                   ...    ...          ...\n",
       "347169  Home is wherever I'm with you @user happy it's...      1           95\n",
       "347170  Personal Training clients doing PR's and I do ...      1           86\n",
       "347171  When your bride is a gorgeous, tall drink of w...      1           95\n",
       "347172  Christmas Day in South Texas!!! HoHoHo...@Murp...      1           75\n",
       "347173  Love your enemies &amp; pray for those who per...      1           97\n",
       "347174                       #boanoite @ Old Town Disney       1           28\n",
       "347175  SF at night #coittower #sf ️ @ San Francisco, ...      1           57\n",
       "347176  When it's time for you to go #Home but you don...      1           84\n",
       "347177  Oh #crêpe! So many choices at @user Loving the...      1           85\n",
       "347178  Very in ️ to be a part of this next week.For t...      1           93\n",
       "347179                     Love This Guy ️ @ Shake Shack       1           30\n",
       "347180  Well, today I'm moving out. Next month I will ...      1           68\n",
       "347181  Did you say treat?!!! - Zorro #Pomeranian #Pom...      1           93\n",
       "347182  Bastrop State Park with my babies @ Bastrop St...      1           55\n",
       "347183  The infamous Tio Noel ️ #MarreroFamilyReunion2...      1           68\n",
       "347184  Things that make your back turn red!!! @ Disne...      1           76\n",
       "347185  I'm in love with this girl's work. So pretty @...      1           82\n",
       "347186  The #gang ready to #rock this morning! #TeamSi...      1           92\n",
       "347187  So my mom has to do this 'routine' procedure. ...      1           96\n",
       "347188  Been MIA on IG cuz Snap is Life @ South Laurel...      1           65\n",
       "347189  Don't hate me because I'm so fabulous #whoteld...      1           80\n",
       "347190  Bailar al Sol Dance Festival at @user in #asbu...      1           61\n",
       "347191  Happy birthday to this queen! Thanks for alway...      1           95\n",
       "347192                           Women they're all nuts.       1           24\n",
       "347193  We're headed to Yorkville IL to play Summer So...      1           87\n",
       "347194                  Fam jam ️ ️ @ Park Valley Church       1           33\n",
       "347195  Celebrating my 2{1st} with my {1st} college fr...      1           66\n",
       "347196  I've known it from the moment that we met|no d...      1          100\n",
       "347197  We celebrated 13 years madness with each other...      1           95\n",
       "347198  Happy Birthday to u! Enjoy your day! #happybir...      1           92\n",
       "\n",
       "[347199 rows x 3 columns]>"
      ]
     },
     "execution_count": 87,
     "metadata": {},
     "output_type": "execute_result"
    }
   ],
   "source": [
    "df.head"
   ]
  },
  {
   "cell_type": "code",
   "execution_count": 73,
   "metadata": {},
   "outputs": [
    {
     "data": {
      "text/plain": [
       "<matplotlib.figure.Figure at 0x23bc0323518>"
      ]
     },
     "metadata": {},
     "output_type": "display_data"
    },
    {
     "data": {
      "image/png": "[encoded data removed]",
      "text/plain": [
       "<matplotlib.figure.Figure at 0x23bc02862b0>"
      ]
     },
     "metadata": {},
     "output_type": "display_data"
    }
   ],
   "source": [
    "plt.figure(figsize=(8, 6))\n",
    "g = sns.FacetGrid(data=df, col='class', size=4,aspect=1)\n",
    "\n",
    "\n",
    "g.map(plt.hist, 'text length', bins=50)\n",
    "\n",
    "plt.show()"
   ]
  },
  {
   "cell_type": "code",
   "execution_count": 56,
   "metadata": {},
   "outputs": [
    {
     "data": {
      "image/png": "[encoded data removed]",
      "text/plain": [
       "<matplotlib.figure.Figure at 0x23bad86a828>"
      ]
     },
     "metadata": {},
     "output_type": "display_data"
    }
   ],
   "source": [
    "sns.boxplot(x='class', y='text length', data=df)\n",
    "plt.show()"
   ]
  },
  {
   "cell_type": "code",
   "execution_count": 58,
   "metadata": {},
   "outputs": [
    {
     "data": {
      "image/png": "[encoded data removed]",
      "text/plain": [
       "<matplotlib.figure.Figure at 0x23bacdef748>"
      ]
     },
     "metadata": {},
     "output_type": "display_data"
    }
   ],
   "source": [
    "stars = df.groupby('class').mean()\n",
    "stars.corr()\n",
    "sns.heatmap(data=df.corr(), annot=True)\n",
    "plt.show()"
   ]
  },
  {
   "cell_type": "code",
   "execution_count": null,
   "metadata": {
    "collapsed": true
   },
   "outputs": [],
   "source": []
  }
 ],
 "metadata": {
  "kernelspec": {
   "display_name": "Python 3",
   "language": "python",
   "name": "python3"
  },
  "language_info": {
   "codemirror_mode": {
    "name": "ipython",
    "version": 3
   },
   "file_extension": ".py",
   "mimetype": "text/x-python",
   "name": "python",
   "nbconvert_exporter": "python",
   "pygments_lexer": "ipython3",
   "version": "3.6.3"
  }
 },
 "nbformat": 4,
 "nbformat_minor": 2
}
